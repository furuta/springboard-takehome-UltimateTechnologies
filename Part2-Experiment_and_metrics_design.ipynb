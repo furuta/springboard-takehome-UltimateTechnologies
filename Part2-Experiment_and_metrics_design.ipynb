{
 "cells": [
  {
   "cell_type": "markdown",
   "metadata": {},
   "source": [
    "# 1. What would you choose as the key measure of success of this experiment"
   ]
  },
  {
   "cell_type": "markdown",
   "metadata": {},
   "source": [
    "The key measure of the success of this experiment is the profit increment minus the toll payment cost. Because The Ultimate managers' purpose is to grow the business, even if many cars can be dispatched to areas with high demand by paying tolls, the business will grow if the cost greatly increases and profits are reduced I do not. You also need to use profits, not sales, because the cost of tolls directly reduces profits. In calculating profits, we also take into account the costs arising from the new operation of toll payment."
   ]
  },
  {
   "cell_type": "markdown",
   "metadata": {},
   "source": [
    "# 2. Describe a practical experiment you would design to compare the effectiveness of the proposed change in relation to the key measure of success."
   ]
  },
  {
   "cell_type": "markdown",
   "metadata": {},
   "source": [
    "## a. how you will implement the experiment"
   ]
  },
  {
   "cell_type": "markdown",
   "metadata": {},
   "source": [
    "The cost of tolls is clearly known, so the key point is how to calculate the profit increase. In the explain, there was a change cycle of demand on a weekly basis, and there was a problem especially on weekdays. In order to limit the scope of the impact, the toll fee will be paid only on weekdays. To eliminate the influence of the day of the week, the data aggregate every Monday to Friday. The effect is measured by comparing the week in which this was performed and the week in which it was not performed. Since the weather varies from week to week, it is recommended that you conduct a certain period of time instead of just a week. If it is too long, it will be affected by seasonal changes, so I think that one month (4 weeks) is good. Some drivers might use the bridge before paying the toll, so you need to get the normal usage status before you announce that you will pay."
   ]
  },
  {
   "cell_type": "markdown",
   "metadata": {},
   "source": [
    "## b. what statistical test (s) you will conduct to verify the significance of the observation"
   ]
  },
  {
   "cell_type": "markdown",
   "metadata": {},
   "source": [
    "- Total sales for each of the two cities\n",
    "- Each of the two cities business costs (excluding tolls)\n",
    "- About traffic on the bridge\n",
    "  - Total toll\n",
    "  - Traffic information (which direction and time)"
   ]
  },
  {
   "cell_type": "markdown",
   "metadata": {},
   "source": [
    "## c. how you would interpret the results and provide recommendations to the city operations team along with any caveats"
   ]
  },
  {
   "cell_type": "markdown",
   "metadata": {},
   "source": [
    "- If the use of bridges in the direction of Gotham city increases and the increase in profits in Gotham city exceeds the cost of tolls, it is meaningful to implement the measures\n",
    "- If the use of bridges in the direction of Metropolis city increases and the profit increase in Metropolis city exceeds the cost of tolls, it is meaningful to implement the measure\n",
    "- If the direction of the bridge is uneven depending on the time of day, I will propose a toll burden that limits the time of day to reduce unnecessary costs.\n",
    "- However, it is necessary to consider this measure if the traffic volume of the bridge increases and traffic congestion occurs, affecting the general public."
   ]
  },
  {
   "cell_type": "code",
   "execution_count": null,
   "metadata": {},
   "outputs": [],
   "source": []
  }
 ],
 "metadata": {
  "kernelspec": {
   "display_name": "Python 3",
   "language": "python",
   "name": "python3"
  },
  "language_info": {
   "codemirror_mode": {
    "name": "ipython",
    "version": 3
   },
   "file_extension": ".py",
   "mimetype": "text/x-python",
   "name": "python",
   "nbconvert_exporter": "python",
   "pygments_lexer": "ipython3",
   "version": "3.7.3"
  }
 },
 "nbformat": 4,
 "nbformat_minor": 2
}
